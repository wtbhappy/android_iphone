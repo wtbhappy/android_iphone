{
 "cells": [
  {
   "cell_type": "markdown",
   "metadata": {},
   "source": [
    "### Contents:\n",
    "+ [4. Preprocessing and Modeling](#4.-Preprocessing-and-Modeling)\n",
    "    - [4.1 Retrieve variables stored](#4.1-Retrieve-variables-stored)\n",
    "    - [4.2 Baseline Classifier](#4.2-Baseline-Classifier)\n",
    "    - [4.3 Compare Naive Bayes with Logistics Regresson](#4.3-Compare-Naive-Bayes-with-Logistics-Regresson)\n",
    "    - [4.3.1 Logistics Regression with CountVectorize](#4.3.1-Logistics-Regression-with-CountVectorizer)\n",
    "    - [4.3.2 Logistics Regression with TdifVectorizer](#4.3.2-Logistics-Regression-with-TdifVectorizer)\n",
    "    - [4.3.3 Naive Bayes Model with CountVectorizer](#4.3.3-Naive-Bayes-Model-with-CountVectorizer)\n",
    "    - [4.3.4 Naive Bayes Model with TfidfVectorizer](#4.3.4-Naive-Bayes-Model-with-TfidfVectorizer)\n",
    "    - [4.3.5 Summary Table of Model Comparison](#4.3.5-Summary-Table-of-Model-Comparison)\n",
    "    - [4.4 Evaluating Logistics Regression is the Chosen Classifier](#4.4-Evaluating-Logistics-Regression)\n",
    "    - [4.4.1 Confusion Matrix](#4.4.1-Confusion-Matrix)\n",
    "    - [4.4.2  Relationship between Sensitivity and Specificity](#4.4.2-Relationship-between-Sensitivity-and-Specificity)\n",
    "    - [4.4.3 Top 10 words with the biggest impact](#4.4.3-Top-10-words-with-the-biggest-impact)"
   ]
  },
  {
   "cell_type": "markdown",
   "metadata": {},
   "source": [
    "# 4. Preprocessing and Modeling"
   ]
  },
  {
   "cell_type": "code",
   "execution_count": 1,
   "metadata": {},
   "outputs": [],
   "source": [
    "# Import packages.\n",
    "import pandas as pd\n",
    "import numpy as np\n",
    "import time\n",
    "from time import time\n",
    "from pprint import pprint\n",
    "from sklearn.feature_extraction.text import TfidfVectorizer, CountVectorizer\n",
    "from sklearn.model_selection import train_test_split, cross_val_score, GridSearchCV,cross_val_predict\n",
    "from sklearn.metrics import confusion_matrix\n",
    "from sklearn.naive_bayes import MultinomialNB\n",
    "from sklearn.linear_model import LogisticRegression\n",
    "from sklearn.pipeline import Pipeline\n",
    "from sklearn.metrics import roc_auc_score\n",
    "from PIL import Image\n",
    "from bs4 import BeautifulSoup\n",
    "from sklearn.dummy import DummyClassifier\n",
    "from sklearn.metrics import accuracy_score, f1_score, recall_score, precision_score\n",
    "from sklearn.metrics import classification_report\n",
    "import matplotlib.pyplot as plt\n",
    "import seaborn as sns\n",
    "\n",
    "%matplotlib inline"
   ]
  },
  {
   "cell_type": "markdown",
   "metadata": {},
   "source": [
    "## 4.1 Retrieve variables stored"
   ]
  },
  {
   "cell_type": "code",
   "execution_count": 2,
   "metadata": {},
   "outputs": [],
   "source": [
    "%store -r y_train\n",
    "%store -r y_test\n",
    "%store -r clean_test_posts\n",
    "%store -r clean_train_posts"
   ]
  },
  {
   "cell_type": "code",
   "execution_count": 3,
   "metadata": {},
   "outputs": [],
   "source": [
    "# Create a function to print out scores\n",
    "\n",
    "def print_binary_evaluation(y_true_test, y_pred_test, y_true_train, y_pred_train):\n",
    "\n",
    "    print(\"Training Data Accuracy: \"+\"{:.3f}\".format(accuracy_score(y_true_train, y_pred_train)))\n",
    "    print(\"Test Data Accuracy: \"+\"{:.3f}\".format(accuracy_score(y_true_test, y_pred_test))) \n",
    "    print(f\"Train/Test Accuracy Diff: \"+\n",
    "          \"{:.3f}\".format(accuracy_score(y_true_train, y_pred_train) - accuracy_score(y_true_test, y_pred_test))) \n",
    "    print(f\"Test Data Recall: \"+\"{:.3f}\".format(recall_score(y_true_test, y_pred_test)))\n",
    "    print(f\"Test Data Precision: \"+\"{:.3f}\".format(precision_score(y_true_test, y_pred_test)))\n",
    "    print(f\"Test Data F1: \"+\"{:.3f}\".format(f1_score(y_true_test, y_pred_test)))\n",
    "    print(f\"Test Data AUC ROC: \"+\"{:.3f}\".format(roc_auc_score(y_true_test, y_pred_test)))"
   ]
  },
  {
   "cell_type": "markdown",
   "metadata": {},
   "source": [
    "## 4.2 Baseline Classifier"
   ]
  },
  {
   "cell_type": "markdown",
   "metadata": {},
   "source": [
    "### Baseline Classifier is DummyClassifier"
   ]
  },
  {
   "cell_type": "code",
   "execution_count": 4,
   "metadata": {},
   "outputs": [
    {
     "name": "stdout",
     "output_type": "stream",
     "text": [
      "Training Data Accuracy: 0.508\n",
      "Test Data Accuracy: 0.485\n",
      "Train/Test Accuracy Diff: 0.023\n",
      "Test Data Recall: 0.482\n",
      "Test Data Precision: 0.492\n",
      "Test Data F1: 0.487\n",
      "Test Data AUC ROC: 0.485\n"
     ]
    }
   ],
   "source": [
    "dummy_clf = DummyClassifier(strategy='uniform', random_state=42)\n",
    "\n",
    "dummy_clf.fit(clean_train_posts, y_train)\n",
    "\n",
    "y_pred_test_dummy = dummy_clf.predict(clean_test_posts)\n",
    "\n",
    "y_pred_train_dummy = dummy_clf.predict(clean_train_posts)\n",
    "\n",
    "print_binary_evaluation(y_test, y_pred_test_dummy,y_train, y_pred_train_dummy)"
   ]
  },
  {
   "cell_type": "markdown",
   "metadata": {},
   "source": [
    "- The accuracy value of 0.508 (training) and 0.485 (test) are low, which means the model can only classifiy a post correctly 50% (training) and 48% (test) of the times, due to either high False Positives, high False Negatives or both.\n",
    "\n",
    "- The precision value of 0.492 is low, which means 49% of posts flagged as Android were correctly classified by this model. In other words there is a large number of False Positives.\n",
    "\n",
    "- The recall value of 0.482 is also low, which means 48% of the actual Android posts were correctly classified by this model. In other words there is a large number of False Negatives.\n",
    "\n",
    "- F1-Score, the harmonic mean of precision and mean, is low at 48%. \n",
    "\n",
    "- With the above result this is not a good model to use for classification."
   ]
  },
  {
   "cell_type": "markdown",
   "metadata": {},
   "source": [
    "## 4.3 Compare Naive Bayes with Logistics Regresson"
   ]
  },
  {
   "cell_type": "markdown",
   "metadata": {},
   "source": [
    "### 4.3.1 Logistics Regression with CountVectorizer\n",
    "\n",
    "Use Gridsearch to find best parameters"
   ]
  },
  {
   "cell_type": "code",
   "execution_count": 33,
   "metadata": {},
   "outputs": [
    {
     "name": "stdout",
     "output_type": "stream",
     "text": [
      "Performing grid search...\n",
      "pipeline: ['cvec_pipe', 'lr_pipe']\n",
      "parameters:\n",
      "{'cvec_pipe__max_df': [0.5, 0.75],\n",
      " 'cvec_pipe__min_df': [2, 3],\n",
      " 'cvec_pipe__ngram_range': [(1, 1), (1, 2)],\n",
      " 'lr_pipe__C': [0.2, 0.4, 0.8],\n",
      " 'lr_pipe__max_iter': [20, 50],\n",
      " 'lr_pipe__penalty': ['l1', 'l2']}\n",
      "Fitting 5 folds for each of 96 candidates, totalling 480 fits\n"
     ]
    },
    {
     "name": "stderr",
     "output_type": "stream",
     "text": [
      "[Parallel(n_jobs=-1)]: Using backend LokyBackend with 2 concurrent workers.\n",
      "[Parallel(n_jobs=-1)]: Done  46 tasks      | elapsed:   11.7s\n",
      "[Parallel(n_jobs=-1)]: Done 196 tasks      | elapsed:   51.5s\n",
      "[Parallel(n_jobs=-1)]: Done 446 tasks      | elapsed:  4.6min\n",
      "[Parallel(n_jobs=-1)]: Done 480 out of 480 | elapsed:  6.1min finished\n"
     ]
    },
    {
     "name": "stdout",
     "output_type": "stream",
     "text": [
      "done in 366.758s\n",
      "\n",
      "Best score: 0.904\n",
      "Best parameters set:\n",
      "\tcvec_pipe__max_df: 0.5\n",
      "\tcvec_pipe__min_df: 3\n",
      "\tcvec_pipe__ngram_range: (1, 1)\n",
      "\tlr_pipe__C: 0.2\n",
      "\tlr_pipe__max_iter: 20\n",
      "\tlr_pipe__penalty: 'l2'\n"
     ]
    },
    {
     "name": "stderr",
     "output_type": "stream",
     "text": [
      "C:\\Users\\wtbha\\anaconda3\\lib\\site-packages\\sklearn\\linear_model\\_logistic.py:940: ConvergenceWarning: lbfgs failed to converge (status=1):\n",
      "STOP: TOTAL NO. of ITERATIONS REACHED LIMIT.\n",
      "\n",
      "Increase the number of iterations (max_iter) or scale the data as shown in:\n",
      "    https://scikit-learn.org/stable/modules/preprocessing.html\n",
      "Please also refer to the documentation for alternative solver options:\n",
      "    https://scikit-learn.org/stable/modules/linear_model.html#logistic-regression\n",
      "  extra_warning_msg=_LOGISTIC_SOLVER_CONVERGENCE_MSG)\n"
     ]
    }
   ],
   "source": [
    "# Define a pipeline combining a CountVectorizer and Logistics Regression\n",
    "# I use max_features of 500 to reduce overfitting\n",
    "\n",
    "pipe_1 = Pipeline([\n",
    "    ('cvec_pipe', CountVectorizer(max_features=500)),\n",
    "    ('lr_pipe', LogisticRegression())\n",
    "])\n",
    "\n",
    "# Feed several parameters to Gridsearch\n",
    "parameters = {\n",
    "    'cvec_pipe__max_df': [0.5, 0.75],       # max document frequency\n",
    "    'cvec_pipe__min_df': [2, 3],                 # min document frequency\n",
    "    'cvec_pipe__ngram_range': [(1, 1), (1, 2)],  # unigrams or bigrams\n",
    "    'lr_pipe__max_iter': [20,50],\n",
    "    'lr_pipe__penalty': ['l1','l2'],\n",
    "    'lr_pipe__C': [0.2,0.4,0.8]\n",
    "    \n",
    "}\n",
    "\n",
    "if __name__ == \"__main__\":\n",
    "    # multiprocessing requires the fork to happen in a __main__ protected\n",
    "    # block\n",
    "\n",
    "    # find the best parameters for both the feature extraction and the\n",
    "    # classifier\n",
    "    grid_search = GridSearchCV(pipe_1, parameters, n_jobs=-1, verbose=1)\n",
    "\n",
    "    print(\"Performing grid search...\")\n",
    "    print(\"pipeline:\", [name for name, _ in pipe_1.steps])\n",
    "    print(\"parameters:\")\n",
    "    pprint(parameters)\n",
    "    t0 = time()\n",
    "    grid_search.fit(clean_train_posts, y_train)\n",
    "    print(\"done in %0.3fs\" % (time() - t0))\n",
    "    print()\n",
    "\n",
    "    print(\"Best score: %0.3f\" % grid_search.best_score_)\n",
    "    print(\"Best parameters set:\")\n",
    "    best_parameters = grid_search.best_estimator_.get_params()\n",
    "    for param_name in sorted(parameters.keys()):\n",
    "        print(\"\\t%s: %r\" % (param_name, best_parameters[param_name]))"
   ]
  },
  {
   "cell_type": "markdown",
   "metadata": {},
   "source": [
    "### Now I will use the best parameters from Gridsearch to build the vectorizer and logistic model"
   ]
  },
  {
   "cell_type": "code",
   "execution_count": 5,
   "metadata": {},
   "outputs": [],
   "source": [
    "# instantiate a CountVectorizer, using best parameter settings from GridSearch \n",
    "\n",
    "cvec_2 = CountVectorizer(max_df=0.5,min_df=2,ngram_range=(1,1),max_features=500)\n",
    "X_train_cvec_2 = cvec_2.fit_transform(clean_train_posts)\n",
    "X_test_cvec_2 = cvec_2.transform(clean_test_posts)"
   ]
  },
  {
   "cell_type": "code",
   "execution_count": 6,
   "metadata": {},
   "outputs": [
    {
     "name": "stdout",
     "output_type": "stream",
     "text": [
      "Training Data Accuracy: 0.979\n",
      "Test Data Accuracy: 0.890\n",
      "Train/Test Accuracy Diff: 0.089\n",
      "Test Data Recall: 0.925\n",
      "Test Data Precision: 0.868\n",
      "Test Data F1: 0.895\n",
      "Test Data AUC ROC: 0.890\n"
     ]
    }
   ],
   "source": [
    "# Instantiate first logistic regression model for CountVectorizer \n",
    "lr_1 = LogisticRegression(max_iter=50, solver='lbfgs',penalty='l2', C=0.4)\n",
    "\n",
    "# Fit model to training data.\n",
    "lr_1.fit(X_train_cvec_2, y_train)\n",
    "\n",
    "# Predict based on test data\n",
    "y_pred_test_cvec_lr_1 = lr_1.predict(X_test_cvec_2)\n",
    "\n",
    "# Predict based on train data\n",
    "y_pred_train_cvec_lr_1 = lr_1.predict(X_train_cvec_2)\n",
    "\n",
    "print_binary_evaluation(y_test, y_pred_test_cvec_lr_1, y_train, y_pred_train_cvec_lr_1)"
   ]
  },
  {
   "cell_type": "markdown",
   "metadata": {},
   "source": [
    "#### Results show LR_1 have good accuracy and AUC ROC but the difference in accuracy between Training and Test datasets is not good enough. I will use different settings to fine-tune the model."
   ]
  },
  {
   "cell_type": "code",
   "execution_count": 12,
   "metadata": {
    "scrolled": false
   },
   "outputs": [
    {
     "name": "stdout",
     "output_type": "stream",
     "text": [
      "Training Data Accuracy: 0.949\n",
      "Test Data Accuracy: 0.893\n",
      "Train/Test Accuracy Diff: 0.057\n",
      "Test Data Recall: 0.970\n",
      "Test Data Precision: 0.842\n",
      "Test Data F1: 0.901\n",
      "Test Data AUC ROC: 0.892\n"
     ]
    }
   ],
   "source": [
    "# Instantiate the 2nd logistic regression model, changing the penalty and solver\n",
    "lr_2 = LogisticRegression(max_iter=20, penalty='l1',solver='liblinear',C=0.4)\n",
    "\n",
    "# Fit model to training data.\n",
    "lr_2.fit(X_train_cvec_2, y_train)\n",
    "\n",
    "# predict based on test data\n",
    "y_pred_test_cvec_lr_2 = lr_2.predict(X_test_cvec_2)\n",
    "\n",
    "# predict based on training data\n",
    "y_pred_train_cvec_lr_2 = lr_2.predict(X_train_cvec_2)\n",
    "\n",
    "print_binary_evaluation(y_test, y_pred_test_cvec_lr_2, y_train, y_pred_train_cvec_lr_2)"
   ]
  },
  {
   "cell_type": "code",
   "execution_count": 13,
   "metadata": {},
   "outputs": [
    {
     "name": "stdout",
     "output_type": "stream",
     "text": [
      "Training Data Accuracy: 0.938\n",
      "Test Data Accuracy: 0.890\n",
      "Train/Test Accuracy Diff: 0.048\n",
      "Test Data Recall: 0.970\n",
      "Test Data Precision: 0.838\n",
      "Test Data F1: 0.899\n",
      "Test Data AUC ROC: 0.889\n"
     ]
    }
   ],
   "source": [
    "# Instantiate the 3rd logistic regression model, changing the C value\n",
    "lr_3 = LogisticRegression(max_iter=20, penalty='l1',solver='liblinear', C=0.3)\n",
    "\n",
    "# Fit model to training data.\n",
    "lr_3.fit(X_train_cvec_2, y_train)\n",
    "\n",
    "# predict based on test data\n",
    "y_pred_test_cvec_lr_3 = lr_3.predict(X_test_cvec_2)\n",
    "\n",
    "# predict based on training data\n",
    "y_pred_train_cvec_lr_3 = lr_3.predict(X_train_cvec_2)\n",
    "\n",
    "print_binary_evaluation(y_test, y_pred_test_cvec_lr_3, y_train, y_pred_train_cvec_lr_3)"
   ]
  },
  {
   "cell_type": "markdown",
   "metadata": {},
   "source": [
    "#### Let me try TdifVectorizer instead of CountVectorizer\n",
    "\n",
    "An important difference between them is that CountVectorizer counts how many times a word is found in a post, whereas TFIDFVectorizer counts our words in a slightly more complicated way: in this case the vectorizer not only counts how many times a word is present in each post, but also takes into account how important the word is in the entire corpus (i.e., the collection of posts)."
   ]
  },
  {
   "cell_type": "markdown",
   "metadata": {},
   "source": [
    "### 4.3.2 Logistics Regression with TdifVectorizer\n",
    "\n",
    "Use Gridsearch to find best parameters"
   ]
  },
  {
   "cell_type": "code",
   "execution_count": 10,
   "metadata": {},
   "outputs": [
    {
     "name": "stdout",
     "output_type": "stream",
     "text": [
      "Performing grid search...\n",
      "pipeline: ['tvec_pipe', 'lr_pipe']\n",
      "parameters:\n",
      "{'lr_pipe__C': [0.2, 0.4, 0.8],\n",
      " 'lr_pipe__max_iter': [20, 50, 100],\n",
      " 'lr_pipe__penalty': ['l1', 'l2'],\n",
      " 'tvec_pipe__max_df': [0.5, 0.75],\n",
      " 'tvec_pipe__min_df': [2, 3],\n",
      " 'tvec_pipe__ngram_range': [(1, 1), (1, 2)]}\n",
      "Fitting 5 folds for each of 144 candidates, totalling 720 fits\n"
     ]
    },
    {
     "name": "stderr",
     "output_type": "stream",
     "text": [
      "[Parallel(n_jobs=-1)]: Using backend LokyBackend with 2 concurrent workers.\n",
      "[Parallel(n_jobs=-1)]: Done  46 tasks      | elapsed:   16.4s\n",
      "[Parallel(n_jobs=-1)]: Done 196 tasks      | elapsed:  2.0min\n",
      "[Parallel(n_jobs=-1)]: Done 446 tasks      | elapsed:  8.7min\n",
      "[Parallel(n_jobs=-1)]: Done 720 out of 720 | elapsed: 16.9min finished\n"
     ]
    },
    {
     "name": "stdout",
     "output_type": "stream",
     "text": [
      "done in 1023.366s\n",
      "\n",
      "Best score: 0.922\n",
      "Best parameters set:\n",
      "\tlr_pipe__C: 0.8\n",
      "\tlr_pipe__max_iter: 20\n",
      "\tlr_pipe__penalty: 'l2'\n",
      "\ttvec_pipe__max_df: 0.75\n",
      "\ttvec_pipe__min_df: 3\n",
      "\ttvec_pipe__ngram_range: (1, 1)\n"
     ]
    },
    {
     "name": "stderr",
     "output_type": "stream",
     "text": [
      "C:\\Users\\wtbha\\anaconda3\\lib\\site-packages\\sklearn\\linear_model\\_logistic.py:940: ConvergenceWarning: lbfgs failed to converge (status=1):\n",
      "STOP: TOTAL NO. of ITERATIONS REACHED LIMIT.\n",
      "\n",
      "Increase the number of iterations (max_iter) or scale the data as shown in:\n",
      "    https://scikit-learn.org/stable/modules/preprocessing.html\n",
      "Please also refer to the documentation for alternative solver options:\n",
      "    https://scikit-learn.org/stable/modules/linear_model.html#logistic-regression\n",
      "  extra_warning_msg=_LOGISTIC_SOLVER_CONVERGENCE_MSG)\n"
     ]
    }
   ],
   "source": [
    "# Define a pipeline combining a TfidVectorizer and Logistics Regression\n",
    "# I use max_features of 500 to reduce overfitting\n",
    "\n",
    "pipe_2 = Pipeline([\n",
    "    ('tvec_pipe', TfidfVectorizer(max_features=500)),\n",
    "    ('lr_pipe', LogisticRegression())\n",
    "])\n",
    "\n",
    "# Feed several parameters to Gridsearch\n",
    "parameters = {\n",
    "    'tvec_pipe__max_df': [0.5, 0.75],       # max document frequency\n",
    "    'tvec_pipe__min_df': [2, 3],                 # min document frequency\n",
    "    'tvec_pipe__ngram_range': [(1, 1), (1, 2)],  # unigrams or bigrams\n",
    "    'lr_pipe__max_iter': [20,50,100],\n",
    "    'lr_pipe__penalty': ['l1','l2'],\n",
    "    'lr_pipe__C': [0.2,0.4,0.8]\n",
    "    \n",
    "}\n",
    "\n",
    "if __name__ == \"__main__\":\n",
    "    # multiprocessing requires the fork to happen in a __main__ protected\n",
    "    # block\n",
    "\n",
    "    # find the best parameters for both the feature extraction and the\n",
    "    # classifier\n",
    "    grid_search = GridSearchCV(pipe_2, parameters, n_jobs=-1, verbose=1)\n",
    "\n",
    "    print(\"Performing grid search...\")\n",
    "    print(\"pipeline:\", [name for name, _ in pipe_2.steps])\n",
    "    print(\"parameters:\")\n",
    "    pprint(parameters)\n",
    "    t0 = time()\n",
    "    grid_search.fit(clean_train_posts, y_train)\n",
    "    print(\"done in %0.3fs\" % (time() - t0))\n",
    "    print()\n",
    "\n",
    "    print(\"Best score: %0.3f\" % grid_search.best_score_)\n",
    "    print(\"Best parameters set:\")\n",
    "    best_parameters = grid_search.best_estimator_.get_params()\n",
    "    for param_name in sorted(parameters.keys()):\n",
    "        print(\"\\t%s: %r\" % (param_name, best_parameters[param_name]))"
   ]
  },
  {
   "cell_type": "markdown",
   "metadata": {},
   "source": [
    "### Now I will use the best parameters from Gridsearch to build the vectorizer and logistic model"
   ]
  },
  {
   "cell_type": "code",
   "execution_count": 7,
   "metadata": {},
   "outputs": [],
   "source": [
    "# instantiate a TfidfVectorizer\n",
    "tvec_1 = TfidfVectorizer(max_df=0.75,min_df=3,ngram_range=(1,1),max_features=500)\n",
    "\n",
    "X_train_tvec_1 = tvec_1.fit_transform(clean_train_posts)\n",
    "X_test_tvec_1 = tvec_1.transform(clean_test_posts)"
   ]
  },
  {
   "cell_type": "code",
   "execution_count": 8,
   "metadata": {
    "scrolled": true
   },
   "outputs": [
    {
     "name": "stdout",
     "output_type": "stream",
     "text": [
      "Training Data Accuracy: 0.952\n",
      "Test Data Accuracy: 0.895\n",
      "Train/Test Accuracy Diff: 0.057\n",
      "Test Data Recall: 0.920\n",
      "Test Data Precision: 0.880\n",
      "Test Data F1: 0.899\n",
      "Test Data AUC ROC: 0.895\n"
     ]
    }
   ],
   "source": [
    "# Instantiate logistic regression model.\n",
    "lr_4 = LogisticRegression(max_iter=20, solver='lbfgs',penalty='l2', C=0.8)\n",
    "\n",
    "# Fit model to training data.\n",
    "lr_4.fit(X_train_tvec_1, y_train)\n",
    "\n",
    "# Predict based on test data\n",
    "y_pred_test_tvec_lr_4 = lr_4.predict(X_test_tvec_1)\n",
    "\n",
    "# Predict based on train data\n",
    "y_pred_train_tvec_lr_4 = lr_4.predict(X_train_tvec_1)\n",
    "\n",
    "print_binary_evaluation(y_test, y_pred_test_tvec_lr_4, y_train, y_pred_train_tvec_lr_4)"
   ]
  },
  {
   "cell_type": "code",
   "execution_count": 10,
   "metadata": {},
   "outputs": [
    {
     "name": "stdout",
     "output_type": "stream",
     "text": [
      "Training Data Accuracy: 0.912\n",
      "Test Data Accuracy: 0.911\n",
      "Train/Test Accuracy Diff: 0.001\n",
      "Test Data Recall: 0.970\n",
      "Test Data Precision: 0.869\n",
      "Test Data F1: 0.917\n",
      "Test Data AUC ROC: 0.910\n"
     ]
    }
   ],
   "source": [
    "# Instantiate the 5th logistic regression model, changing penalty and solver\n",
    "lr_5 = LogisticRegression(max_iter=20,penalty='l1', solver='liblinear', C=0.8)\n",
    "\n",
    "# Fit model to training data.\n",
    "lr_5.fit(X_train_tvec_1, y_train)\n",
    "\n",
    "# predict based on test data\n",
    "y_pred_test_tvec_lr_5 = lr_5.predict(X_test_tvec_1)\n",
    "\n",
    "# predict based on test data\n",
    "y_pred_train_tvec_lr_5 = lr_5.predict(X_train_tvec_1)\n",
    "\n",
    "print_binary_evaluation(y_test, y_pred_test_tvec_lr_5, y_train, y_pred_train_tvec_lr_5)"
   ]
  },
  {
   "cell_type": "code",
   "execution_count": 25,
   "metadata": {},
   "outputs": [
    {
     "name": "stdout",
     "output_type": "stream",
     "text": [
      "Training Data Accuracy: 0.911\n",
      "Test Data Accuracy: 0.911\n",
      "Train/Test Accuracy Diff: 0.000\n",
      "Test Data Recall: 0.970\n",
      "Test Data Precision: 0.869\n",
      "Test Data F1: 0.917\n",
      "Test Data AUC ROC: 0.910\n"
     ]
    }
   ],
   "source": [
    "# Instantiate the 6th logistic regression model, changing the C value\n",
    "lr_6 = LogisticRegression(max_iter=20,penalty='l1', solver='liblinear', C=0.77)\n",
    "\n",
    "# Fit model to training data.\n",
    "lr_6.fit(X_train_tvec_1, y_train)\n",
    "\n",
    "# predict based on test data\n",
    "y_pred_test_tvec_lr_6 = lr_6.predict(X_test_tvec_1)\n",
    "\n",
    "# predict based on training data\n",
    "y_pred_train_tvec_lr_6 = lr_6.predict(X_train_tvec_1)\n",
    "\n",
    "print_binary_evaluation(y_test, y_pred_test_tvec_lr_6, y_train, y_pred_train_tvec_lr_6)"
   ]
  },
  {
   "cell_type": "markdown",
   "metadata": {},
   "source": [
    "### 4.3.3 Naive Bayes Model with CountVectorizer\n",
    "\n",
    "There are 3 subtypes\n",
    "- MultinomialNB\n",
    "- BernoulliNB\n",
    "- GaussianNB\n",
    "\n",
    "Bernoulli is suitable for binary data whereas Multinomial is able to handle non-binary numbers. I have checked during EDA that the data is not binary so I will be using Multinomial."
   ]
  },
  {
   "cell_type": "code",
   "execution_count": 15,
   "metadata": {},
   "outputs": [
    {
     "name": "stdout",
     "output_type": "stream",
     "text": [
      "Performing grid search...\n",
      "pipeline: ['cvec_pipe', 'nb_pipe']\n",
      "parameters:\n",
      "{'cvec_pipe__max_df': [0.5, 0.75],\n",
      " 'cvec_pipe__min_df': [2, 3],\n",
      " 'cvec_pipe__ngram_range': [(1, 1), (1, 2)],\n",
      " 'nb_pipe__alpha': [0, 0.5, 1]}\n",
      "Fitting 5 folds for each of 24 candidates, totalling 120 fits\n"
     ]
    },
    {
     "name": "stderr",
     "output_type": "stream",
     "text": [
      "[Parallel(n_jobs=-1)]: Using backend LokyBackend with 2 concurrent workers.\n",
      "[Parallel(n_jobs=-1)]: Done  46 tasks      | elapsed:  1.3min\n",
      "[Parallel(n_jobs=-1)]: Done 120 out of 120 | elapsed:  2.6min finished\n"
     ]
    },
    {
     "name": "stdout",
     "output_type": "stream",
     "text": [
      "done in 160.640s\n",
      "\n",
      "Best score: 0.918\n",
      "Best parameters set:\n",
      "\tcvec_pipe__max_df: 0.75\n",
      "\tcvec_pipe__min_df: 2\n",
      "\tcvec_pipe__ngram_range: (1, 2)\n",
      "\tnb_pipe__alpha: 0\n"
     ]
    },
    {
     "name": "stderr",
     "output_type": "stream",
     "text": [
      "C:\\Users\\wtbha\\anaconda3\\lib\\site-packages\\sklearn\\naive_bayes.py:507: UserWarning: alpha too small will result in numeric errors, setting alpha = 1.0e-10\n",
      "  'setting alpha = %.1e' % _ALPHA_MIN)\n"
     ]
    }
   ],
   "source": [
    "# Define a pipeline combining a CountVectorizer and Logistics Regression\n",
    "# I use max_features of 500 to reduce overfitting\n",
    "\n",
    "pipe_3 = Pipeline([\n",
    "    ('cvec_pipe', CountVectorizer(max_features=500)),\n",
    "    ('nb_pipe', MultinomialNB())\n",
    "])\n",
    "\n",
    "# Feed several parameters to Gridsearch\n",
    "parameters = {\n",
    "    'cvec_pipe__max_df': [0.5, 0.75],       # max document frequency\n",
    "    'cvec_pipe__min_df': [2, 3],                 # min document frequency\n",
    "    'cvec_pipe__ngram_range': [(1, 1), (1, 2)],  # unigrams or bigrams\n",
    "    'nb_pipe__alpha': [0,0.5,1]\n",
    "    \n",
    "}\n",
    "\n",
    "if __name__ == \"__main__\":\n",
    "    # multiprocessing requires the fork to happen in a __main__ protected\n",
    "    # block\n",
    "\n",
    "    # find the best parameters for both the feature extraction and the\n",
    "    # classifier\n",
    "    grid_search = GridSearchCV(pipe_3, parameters, n_jobs=-1, verbose=1)\n",
    "\n",
    "    print(\"Performing grid search...\")\n",
    "    print(\"pipeline:\", [name for name, _ in pipe_3.steps])\n",
    "    print(\"parameters:\")\n",
    "    pprint(parameters)\n",
    "    t0 = time()\n",
    "    grid_search.fit(clean_train_posts, y_train)\n",
    "    print(\"done in %0.3fs\" % (time() - t0))\n",
    "    print()\n",
    "\n",
    "    print(\"Best score: %0.3f\" % grid_search.best_score_)\n",
    "    print(\"Best parameters set:\")\n",
    "    best_parameters = grid_search.best_estimator_.get_params()\n",
    "    for param_name in sorted(parameters.keys()):\n",
    "        print(\"\\t%s: %r\" % (param_name, best_parameters[param_name]))"
   ]
  },
  {
   "cell_type": "markdown",
   "metadata": {},
   "source": [
    "#### Use the GridSerch result to create a CountVectorizer and MultinomialNB"
   ]
  },
  {
   "cell_type": "code",
   "execution_count": 12,
   "metadata": {},
   "outputs": [],
   "source": [
    "# instantiate a CountVectorizer \n",
    "\n",
    "cvec_3 = CountVectorizer(max_df=0.75,min_df=2,ngram_range=(1,2),max_features=500)\n",
    "X_train_cvec_3 = cvec_3.fit_transform(clean_train_posts)\n",
    "X_test_cvec_3 = cvec_3.transform(clean_test_posts)"
   ]
  },
  {
   "cell_type": "code",
   "execution_count": 13,
   "metadata": {
    "scrolled": true
   },
   "outputs": [
    {
     "name": "stdout",
     "output_type": "stream",
     "text": [
      "Training Data Accuracy: 0.924\n",
      "Test Data Accuracy: 0.878\n",
      "Train/Test Accuracy Diff: 0.046\n",
      "Test Data Recall: 0.874\n",
      "Test Data Precision: 0.883\n",
      "Test Data F1: 0.879\n",
      "Test Data AUC ROC: 0.878\n"
     ]
    },
    {
     "name": "stderr",
     "output_type": "stream",
     "text": [
      "C:\\Users\\wtbha\\anaconda3\\lib\\site-packages\\sklearn\\naive_bayes.py:507: UserWarning: alpha too small will result in numeric errors, setting alpha = 1.0e-10\n",
      "  'setting alpha = %.1e' % _ALPHA_MIN)\n"
     ]
    }
   ],
   "source": [
    "# Instantiate a Multinomial Naive Bayes model\n",
    "nb_1 = MultinomialNB(alpha=0)\n",
    "\n",
    "# Fit our model\n",
    "nb_1.fit(X_train_cvec_3, y_train)\n",
    "\n",
    "# predict with train data\n",
    "y_pred_train_cvec_nb_1 = nb_1.predict(X_train_cvec_3)\n",
    "\n",
    "# predict with test data\n",
    "y_pred_test_cvec_nb_1 = nb_1.predict(X_test_cvec_3)\n",
    "\n",
    "# Show summary scores\n",
    "print_binary_evaluation(y_test, y_pred_test_cvec_nb_1, y_train, y_pred_train_cvec_nb_1)"
   ]
  },
  {
   "cell_type": "code",
   "execution_count": 14,
   "metadata": {
    "scrolled": false
   },
   "outputs": [
    {
     "name": "stdout",
     "output_type": "stream",
     "text": [
      "Training Data Accuracy: 0.921\n",
      "Test Data Accuracy: 0.875\n",
      "Train/Test Accuracy Diff: 0.046\n",
      "Test Data Recall: 0.869\n",
      "Test Data Precision: 0.883\n",
      "Test Data F1: 0.876\n",
      "Test Data AUC ROC: 0.875\n"
     ]
    }
   ],
   "source": [
    "# Instantiate a model and change alpha to 0.5\n",
    "nb_2 = MultinomialNB(alpha=0.5)\n",
    "\n",
    "# Fit our model\n",
    "nb_2.fit(X_train_cvec_3, y_train)\n",
    "\n",
    "# predict with train data\n",
    "y_pred_train_cvec_nb_2 = nb_2.predict(X_train_cvec_3)\n",
    "\n",
    "# predict with test data\n",
    "y_pred_test_cvec_nb_2 = nb_2.predict(X_test_cvec_3)\n",
    "\n",
    "# Show summary scores\n",
    "print_binary_evaluation(y_test, y_pred_test_cvec_nb_2, y_train, y_pred_train_cvec_nb_2)"
   ]
  },
  {
   "cell_type": "markdown",
   "metadata": {},
   "source": [
    "### 4.3.4 Naive Bayes Model with TfidfVectorizer"
   ]
  },
  {
   "cell_type": "code",
   "execution_count": 19,
   "metadata": {},
   "outputs": [
    {
     "name": "stdout",
     "output_type": "stream",
     "text": [
      "Performing grid search...\n",
      "pipeline: ['tvec_pipe', 'nb_pipe']\n",
      "parameters:\n",
      "{'nb_pipe__alpha': [0, 0.5, 1],\n",
      " 'tvec_pipe__max_df': [0.5, 0.75],\n",
      " 'tvec_pipe__min_df': [2, 3],\n",
      " 'tvec_pipe__ngram_range': [(1, 1), (1, 2)]}\n",
      "Fitting 5 folds for each of 24 candidates, totalling 120 fits\n"
     ]
    },
    {
     "name": "stderr",
     "output_type": "stream",
     "text": [
      "[Parallel(n_jobs=-1)]: Using backend LokyBackend with 2 concurrent workers.\n",
      "[Parallel(n_jobs=-1)]: Done  46 tasks      | elapsed:   57.3s\n",
      "[Parallel(n_jobs=-1)]: Done 120 out of 120 | elapsed:  3.2min finished\n"
     ]
    },
    {
     "name": "stdout",
     "output_type": "stream",
     "text": [
      "done in 201.705s\n",
      "\n",
      "Best score: 0.904\n",
      "Best parameters set:\n",
      "\tnb_pipe__alpha: 1\n",
      "\ttvec_pipe__max_df: 0.5\n",
      "\ttvec_pipe__min_df: 3\n",
      "\ttvec_pipe__ngram_range: (1, 2)\n"
     ]
    }
   ],
   "source": [
    "# Define a pipeline combining a TfidVectorizer and MultinomialNB classifier\n",
    "# I use max_features of 500 to reduce overfitting\n",
    "\n",
    "pipe_4 = Pipeline([\n",
    "    ('tvec_pipe', TfidfVectorizer(max_features=500)),\n",
    "    ('nb_pipe', MultinomialNB())\n",
    "])\n",
    "\n",
    "# Feed several parameters to Gridsearch\n",
    "parameters = {\n",
    "    'tvec_pipe__max_df': [0.5, 0.75],       # max document frequency\n",
    "    'tvec_pipe__min_df': [2, 3],                 # min document frequency\n",
    "    'tvec_pipe__ngram_range': [(1, 1), (1, 2)],  # unigrams or bigrams\n",
    "    'nb_pipe__alpha': [0,0.5,1]\n",
    "    \n",
    "}\n",
    "\n",
    "if __name__ == \"__main__\":\n",
    "    # multiprocessing requires the fork to happen in a __main__ protected\n",
    "    # block\n",
    "\n",
    "    # find the best parameters for both the feature extraction and the\n",
    "    # classifier\n",
    "    grid_search = GridSearchCV(pipe_4, parameters, n_jobs=-1, verbose=1)\n",
    "\n",
    "    print(\"Performing grid search...\")\n",
    "    print(\"pipeline:\", [name for name, _ in pipe_4.steps])\n",
    "    print(\"parameters:\")\n",
    "    pprint(parameters)\n",
    "    t0 = time()\n",
    "    grid_search.fit(clean_train_posts, y_train)\n",
    "    print(\"done in %0.3fs\" % (time() - t0))\n",
    "    print()\n",
    "\n",
    "    print(\"Best score: %0.3f\" % grid_search.best_score_)\n",
    "    print(\"Best parameters set:\")\n",
    "    best_parameters = grid_search.best_estimator_.get_params()\n",
    "    for param_name in sorted(parameters.keys()):\n",
    "        print(\"\\t%s: %r\" % (param_name, best_parameters[param_name]))"
   ]
  },
  {
   "cell_type": "code",
   "execution_count": 15,
   "metadata": {},
   "outputs": [],
   "source": [
    "# instantiate a TfidfVectorizer\n",
    "tvec_2 = TfidfVectorizer(max_df=0.5,min_df=3,ngram_range=(1,2),max_features=500)\n",
    "\n",
    "X_train_tvec_2 = tvec_2.fit_transform(clean_train_posts)\n",
    "X_test_tvec_2 = tvec_2.transform(clean_test_posts)"
   ]
  },
  {
   "cell_type": "code",
   "execution_count": 16,
   "metadata": {
    "scrolled": true
   },
   "outputs": [
    {
     "name": "stdout",
     "output_type": "stream",
     "text": [
      "Training Data Accuracy: 0.918\n",
      "Test Data Accuracy: 0.691\n",
      "Train/Test Accuracy Diff: 0.227\n",
      "Test Data Recall: 0.588\n",
      "Test Data Precision: 0.750\n",
      "Test Data F1: 0.659\n",
      "Test Data AUC ROC: 0.693\n"
     ]
    }
   ],
   "source": [
    "# Instantiate a Multinomial Naive Bayes model\n",
    "nb_3 = MultinomialNB(alpha=1)\n",
    "\n",
    "# Fit our model\n",
    "nb_3.fit(X_train_tvec_2, y_train)\n",
    "\n",
    "# predict with train data\n",
    "y_pred_train_cvec_nb_3 = nb_3.predict(X_train_tvec_2)\n",
    "\n",
    "# predict with test data\n",
    "y_pred_test_cvec_nb_3 = nb_3.predict(X_test_cvec_2)\n",
    "\n",
    "# Show summary scores\n",
    "print_binary_evaluation(y_test, y_pred_test_cvec_nb_3, y_train, y_pred_train_cvec_nb_3)"
   ]
  },
  {
   "cell_type": "code",
   "execution_count": 17,
   "metadata": {
    "scrolled": false
   },
   "outputs": [
    {
     "name": "stdout",
     "output_type": "stream",
     "text": [
      "Training Data Accuracy: 0.919\n",
      "Test Data Accuracy: 0.847\n",
      "Train/Test Accuracy Diff: 0.072\n",
      "Test Data Recall: 0.849\n",
      "Test Data Precision: 0.849\n",
      "Test Data F1: 0.849\n",
      "Test Data AUC ROC: 0.847\n"
     ]
    }
   ],
   "source": [
    "# Instantiate another model with a different alpha\n",
    "nb_4 = MultinomialNB(alpha=0.5)\n",
    "\n",
    "# Fit our model\n",
    "nb_4.fit(X_train_tvec_2, y_train)\n",
    "\n",
    "# predict with train data\n",
    "y_pred_train_tvec_nb_4 = nb_4.predict(X_train_tvec_2)\n",
    "\n",
    "# predict with test data\n",
    "y_pred_test_tvec_nb_4 = nb_4.predict(X_test_tvec_2)\n",
    "\n",
    "# Show summary scores\n",
    "print_binary_evaluation(y_test, y_pred_test_tvec_nb_4, y_train, y_pred_train_tvec_nb_4)"
   ]
  },
  {
   "cell_type": "markdown",
   "metadata": {},
   "source": [
    "### 4.3.5 Summary Table of Model Comparison\n",
    "\n",
    "<h3 align=center>Summary Table of comparison</h3>\n",
    "<h5 align=center>Note: Values are rounded to 3 decimal places through codes, so some may appear inaccurate</h5>\n",
    "\n",
    "|Model|Train Accuracy|Test Accuracy|Train/Test Accuracy Diff|Recall|Precision|F1 Score|AUC-ROC|\n",
    "|---|---|---|---|---|---|---|---|\n",
    "|Baseline DummyClassifier|0.508|0.485|0.023|0.482|0.492|0.487|0.485|\n",
    "|Logistic 1 with CountVect (penalty='l2',solver='lbfgs',C=0.4)|0.977|0.890|0.089|0.925|0.868|0.895|0.890|\n",
    "|Logistic 2 with CountVect (penalty='l1',solver='liblinear',C=0.4)|0.940|0.893|0.057|0.970|0.842|0.901|0.892|\n",
    "|Logistic 3 with CountVect (penalty='l1',solver='liblinear',C=0.3)|0.938|0.890|0.048|0.970|0.838|0.899|0.899|\n",
    "|Logistic 4 with TfidfVect (penalty='l2',solver='lbfgs',C=0.8)|0.952|0.895|0.057|0.920|0.880|0.899|0.895|\n",
    "|Logistic 5 with TfidfVect (penalty='l1',solver='liblinear',C=0.8)|0.912|0.911|0.01|0.970|0.869|0.917|0.910|\n",
    "|<font color=blue><b>Logistic 6 with TfidfVect (penalty='l1',solver='liblinear',C=0.77)</b></font>|<font color=blue><b>0.911</b></font>|<font color=blue><b>0.911</b></font>|<font color=blue><b>0.000</b></font>|<font color=blue><b>0.970</b></font>|<font color=blue><b>0.869</b></font>|<font color=blue><b>0.917</b></font>|<font color=blue><b>0.910</b></font>|\n",
    "|Multinomial 1 with CountVect (alpha=0)|0.924|0.878|0.046|0.874|0.883|0.879|0.878|\n",
    "|Multinomial 2 with CountVect (alpha=0.5)|0.921|0.875|0.046|0.869|0.883|0.876|0.875|\n",
    "|Multinomial 3 with TfidfVect (alpha=1)|0.918|0.691|0.227|0.588|0.750|0.659|0.693|\n",
    "|Multinomial 4 with TfidfVect (alpha=0.5)|0.919|0.847|0.072|0.849|0.849|0.849|0.847|\n",
    "\n",
    "\n",
    "#### 1) In general all logistic and Multinomial models have vast improvement over the baseline model.\n",
    "\n",
    "#### 2) Logistic Regression 6th (blue text) models is the best model for the following reasons:\n",
    "\n",
    "- High Accuracy\n",
    "<br />The model is able to classifiy a post correctly 91% of the time\n",
    "- Perfect fit (no overfit or underfit)\n",
    "<br />This means it will be able to handle unseen data very well\n",
    "- High F1 Score\n",
    "<br />It means there are very low false positives and low false negatives. In other words, there is very low chance of incorrect classification\n",
    "- High AUC-ROC\n",
    "<br />It means the model is very capable of distinguishing between classes"
   ]
  },
  {
   "cell_type": "markdown",
   "metadata": {},
   "source": [
    "## 4.4 Evaluating Logistics Regression\n"
   ]
  },
  {
   "cell_type": "markdown",
   "metadata": {},
   "source": [
    "### 4.4.1 Confusion Matrix\n",
    "\n",
    "- A true positive is a post that is predicted to come from the Android subreddit and really is from the Android subreddit.\n",
    "- A true negative is a post that is predicted to come from the iPhone subreddit and really is from the iPhone subreddit.\n",
    "- A false positive is a post that is predicted to come from the Android subreddit but actually comes from the iPhone subreddit.\n",
    "- A false negative is a post that is predicted to come from the iPhone subreddit but actually comes from Android subreddit."
   ]
  },
  {
   "cell_type": "code",
   "execution_count": 26,
   "metadata": {},
   "outputs": [
    {
     "data": {
      "text/html": [
       "<div>\n",
       "<style scoped>\n",
       "    .dataframe tbody tr th:only-of-type {\n",
       "        vertical-align: middle;\n",
       "    }\n",
       "\n",
       "    .dataframe tbody tr th {\n",
       "        vertical-align: top;\n",
       "    }\n",
       "\n",
       "    .dataframe thead th {\n",
       "        text-align: right;\n",
       "    }\n",
       "</style>\n",
       "<table border=\"1\" class=\"dataframe\">\n",
       "  <thead>\n",
       "    <tr style=\"text-align: right;\">\n",
       "      <th></th>\n",
       "      <th>pred Android</th>\n",
       "      <th>pred iPhone</th>\n",
       "    </tr>\n",
       "  </thead>\n",
       "  <tbody>\n",
       "    <tr>\n",
       "      <th>actual Android</th>\n",
       "      <td>164</td>\n",
       "      <td>29</td>\n",
       "    </tr>\n",
       "    <tr>\n",
       "      <th>actual iPhone</th>\n",
       "      <td>6</td>\n",
       "      <td>193</td>\n",
       "    </tr>\n",
       "  </tbody>\n",
       "</table>\n",
       "</div>"
      ],
      "text/plain": [
       "                pred Android  pred iPhone\n",
       "actual Android           164           29\n",
       "actual iPhone              6          193"
      ]
     },
     "execution_count": 26,
     "metadata": {},
     "output_type": "execute_result"
    }
   ],
   "source": [
    "# Get the confusion matrix from Logistic number 6 with TfidfVectorizer\n",
    "cm = confusion_matrix(y_test,y_pred_test_tvec_lr_6)\n",
    "\n",
    "# Create a dataframe for displaying the result properly\n",
    "cm_df = pd.DataFrame(cm, columns=['pred Android', 'pred iPhone'], index=['actual Android', 'actual iPhone'])\n",
    "cm_df"
   ]
  },
  {
   "cell_type": "code",
   "execution_count": 27,
   "metadata": {},
   "outputs": [
    {
     "data": {
      "text/html": [
       "<div>\n",
       "<style scoped>\n",
       "    .dataframe tbody tr th:only-of-type {\n",
       "        vertical-align: middle;\n",
       "    }\n",
       "\n",
       "    .dataframe tbody tr th {\n",
       "        vertical-align: top;\n",
       "    }\n",
       "\n",
       "    .dataframe thead th {\n",
       "        text-align: right;\n",
       "    }\n",
       "</style>\n",
       "<table border=\"1\" class=\"dataframe\">\n",
       "  <thead>\n",
       "    <tr style=\"text-align: right;\">\n",
       "      <th></th>\n",
       "      <th>Metric</th>\n",
       "      <th>Value</th>\n",
       "    </tr>\n",
       "  </thead>\n",
       "  <tbody>\n",
       "    <tr>\n",
       "      <th>0</th>\n",
       "      <td>True Negatives</td>\n",
       "      <td>164.000</td>\n",
       "    </tr>\n",
       "    <tr>\n",
       "      <th>1</th>\n",
       "      <td>False Positives</td>\n",
       "      <td>29.000</td>\n",
       "    </tr>\n",
       "    <tr>\n",
       "      <th>2</th>\n",
       "      <td>False Negatives</td>\n",
       "      <td>6.000</td>\n",
       "    </tr>\n",
       "    <tr>\n",
       "      <th>3</th>\n",
       "      <td>True Positives</td>\n",
       "      <td>193.000</td>\n",
       "    </tr>\n",
       "    <tr>\n",
       "      <th>4</th>\n",
       "      <td>Accuracy</td>\n",
       "      <td>0.911</td>\n",
       "    </tr>\n",
       "    <tr>\n",
       "      <th>5</th>\n",
       "      <td>Misclassification Rate</td>\n",
       "      <td>0.089</td>\n",
       "    </tr>\n",
       "    <tr>\n",
       "      <th>6</th>\n",
       "      <td>True Positive Rate/sensitivity/recall</td>\n",
       "      <td>0.970</td>\n",
       "    </tr>\n",
       "    <tr>\n",
       "      <th>7</th>\n",
       "      <td>Precision</td>\n",
       "      <td>0.869</td>\n",
       "    </tr>\n",
       "    <tr>\n",
       "      <th>8</th>\n",
       "      <td>False Positive Rate</td>\n",
       "      <td>0.150</td>\n",
       "    </tr>\n",
       "    <tr>\n",
       "      <th>9</th>\n",
       "      <td>False Negative Rate</td>\n",
       "      <td>0.030</td>\n",
       "    </tr>\n",
       "  </tbody>\n",
       "</table>\n",
       "</div>"
      ],
      "text/plain": [
       "                                  Metric    Value\n",
       "0                         True Negatives  164.000\n",
       "1                        False Positives   29.000\n",
       "2                        False Negatives    6.000\n",
       "3                         True Positives  193.000\n",
       "4                               Accuracy    0.911\n",
       "5                 Misclassification Rate    0.089\n",
       "6  True Positive Rate/sensitivity/recall    0.970\n",
       "7                              Precision    0.869\n",
       "8                    False Positive Rate    0.150\n",
       "9                    False Negative Rate    0.030"
      ]
     },
     "execution_count": 27,
     "metadata": {},
     "output_type": "execute_result"
    }
   ],
   "source": [
    "# Flatten the matrix to retrieve True Negative (tn), False Positive (fp), False Negative (fn) and True Positive (tp)\n",
    "tn, fp, fn, tp = cm.ravel() \n",
    "\n",
    "# create a dataframe for displaying the result properly\n",
    "d = {'Metric': ['True Negatives', 'False Positives', 'False Negatives', 'True Positives',\n",
    "     'Accuracy',' Misclassification Rate', 'True Positive Rate/sensitivity/recall',\n",
    "     'Precision','False Positive Rate','False Negative Rate'],           \n",
    "     'Value': ['%.3f'%tn,'%.3f'%fp,'%.3f'%fn,'%.3f'%tp,'%.3f'%((tp+tn)/(tp+tn+fp+fn)),'%.3f'%((fp+fn)/(tp+tn+fp+fn)),\n",
    "               '%.3f'%(tp/(tp+fn)),'%.3f'%(tp/(tp+fp)),'%.3f'%(fp/(fp+tn)),'%.3f'%(fn/(fn+tp))]}\n",
    "pd.DataFrame(data=d)"
   ]
  },
  {
   "cell_type": "markdown",
   "metadata": {},
   "source": [
    "#### The confusion matrix shows True Negatives and True Positives are much higher than False Negatives and False Positives, which means the model has very good performance in identifying the correct Android and iPhone posts."
   ]
  },
  {
   "cell_type": "markdown",
   "metadata": {},
   "source": [
    "### 4.4.2 Relationship between Sensitivity and Specificity"
   ]
  },
  {
   "cell_type": "code",
   "execution_count": 28,
   "metadata": {},
   "outputs": [
    {
     "data": {
      "image/png": "[encoded data removed]",
      "text/plain": [
       "<Figure size 1152x432 with 1 Axes>"
      ]
     },
     "metadata": {
      "needs_background": "light"
     },
     "output_type": "display_data"
    }
   ],
   "source": [
    "# Create a dataframe that contains:\n",
    "# 1. The list of true values of our test set.\n",
    "# 2. The list of predicted probabilities based on our Logistic Model number 6\n",
    "\n",
    "\n",
    "pred_proba_1 = [i[1] for i in lr_6.predict_proba(X_test_tvec_1)]\n",
    "pred_df_1 = pd.DataFrame({'true_values': y_test,\n",
    "                        'pred_probs':pred_proba_1})\n",
    "\n",
    "# Create figure.\n",
    "plt.figure(figsize = (16,6))\n",
    "\n",
    "# Create two histograms of observations.\n",
    "plt.hist(pred_df_1[pred_df_1['true_values'] == 0]['pred_probs'],\n",
    "         bins=25,\n",
    "         color='b',\n",
    "         alpha = 0.6,\n",
    "         label='Outcome = 0')\n",
    "plt.hist(pred_df_1[pred_df_1['true_values'] == 1]['pred_probs'],\n",
    "         bins=25,\n",
    "         color='orange',\n",
    "         alpha = 0.6,\n",
    "         label='Outcome = 1')\n",
    "\n",
    "# Add vertical line at P(Outcome = 1) = 0.5.\n",
    "plt.vlines(x=0.5,\n",
    "           ymin = 0,\n",
    "           ymax = 65,\n",
    "           color='r',\n",
    "           linestyle = '--')\n",
    "\n",
    "# Label axes.\n",
    "plt.title('Distribution of P(Outcome = 1)', fontsize=22)\n",
    "plt.ylabel('Frequency', fontsize=18)\n",
    "plt.xlabel('Predicted Probability that Outcome = 1', fontsize=18)\n",
    "\n",
    "# Create legend.\n",
    "plt.legend(fontsize=20);"
   ]
  },
  {
   "cell_type": "markdown",
   "metadata": {},
   "source": [
    "The above plot is divded into two halves by a vertical red line. Those on right side of the red line are Actual Android Posts  and those on the left are Actual iPhone Posts.\n",
    "\n",
    "The bars are the predictions - Orange bars represent the posts predicted as Android, Blue bars to represent the posts predicted as iPhone.\n",
    "\n",
    "We can see the orange bars are mostly on the right and blue bars are mostly on the left, which mean the predictions are mostly correct. \n",
    "\n",
    "We can see very little overlaps - orange bars appear on the left and blue bars appear on the right, which False Negatives and False Positives respectively\n",
    "\n",
    "The overlaps refer to incorrect predictions, and the plot shows it has very little, which means the model has largely done the correct predictions. "
   ]
  },
  {
   "cell_type": "markdown",
   "metadata": {},
   "source": [
    "### 4.4.3 Top 10 words with the biggest impact"
   ]
  },
  {
   "cell_type": "code",
   "execution_count": 30,
   "metadata": {},
   "outputs": [
    {
     "data": {
      "text/html": [
       "<div>\n",
       "<style scoped>\n",
       "    .dataframe tbody tr th:only-of-type {\n",
       "        vertical-align: middle;\n",
       "    }\n",
       "\n",
       "    .dataframe tbody tr th {\n",
       "        vertical-align: top;\n",
       "    }\n",
       "\n",
       "    .dataframe thead th {\n",
       "        text-align: right;\n",
       "    }\n",
       "</style>\n",
       "<table border=\"1\" class=\"dataframe\">\n",
       "  <thead>\n",
       "    <tr style=\"text-align: right;\">\n",
       "      <th></th>\n",
       "      <th>values</th>\n",
       "    </tr>\n",
       "    <tr>\n",
       "      <th>coefs</th>\n",
       "      <th></th>\n",
       "    </tr>\n",
       "  </thead>\n",
       "  <tbody>\n",
       "    <tr>\n",
       "      <th>iphone</th>\n",
       "      <td>-33.160025</td>\n",
       "    </tr>\n",
       "    <tr>\n",
       "      <th>android</th>\n",
       "      <td>14.117177</td>\n",
       "    </tr>\n",
       "    <tr>\n",
       "      <th>samsung</th>\n",
       "      <td>8.187749</td>\n",
       "    </tr>\n",
       "    <tr>\n",
       "      <th>galaxy</th>\n",
       "      <td>7.261174</td>\n",
       "    </tr>\n",
       "    <tr>\n",
       "      <th>ios</th>\n",
       "      <td>-6.518604</td>\n",
       "    </tr>\n",
       "    <tr>\n",
       "      <th>apple</th>\n",
       "      <td>-5.391417</td>\n",
       "    </tr>\n",
       "    <tr>\n",
       "      <th>icloud</th>\n",
       "      <td>-5.251393</td>\n",
       "    </tr>\n",
       "    <tr>\n",
       "      <th>safari</th>\n",
       "      <td>-4.818363</td>\n",
       "    </tr>\n",
       "    <tr>\n",
       "      <th>root</th>\n",
       "      <td>4.000311</td>\n",
       "    </tr>\n",
       "    <tr>\n",
       "      <th>google</th>\n",
       "      <td>3.204223</td>\n",
       "    </tr>\n",
       "  </tbody>\n",
       "</table>\n",
       "</div>"
      ],
      "text/plain": [
       "            values\n",
       "coefs             \n",
       "iphone  -33.160025\n",
       "android  14.117177\n",
       "samsung   8.187749\n",
       "galaxy    7.261174\n",
       "ios      -6.518604\n",
       "apple    -5.391417\n",
       "icloud   -5.251393\n",
       "safari   -4.818363\n",
       "root      4.000311\n",
       "google    3.204223"
      ]
     },
     "execution_count": 30,
     "metadata": {},
     "output_type": "execute_result"
    }
   ],
   "source": [
    "# Retrieve coefficients and features\n",
    "coef_names = tvec_1.get_feature_names()\n",
    "\n",
    "# Create a dataframe to hold coefficients and features\n",
    "coef_df = pd.DataFrame ({\n",
    "    'coefs' : coef_names,\n",
    "    'values' : lr_6.coef_[0]\n",
    "}).set_index('coefs')\n",
    "\n",
    "# Display the top 10 wors in descending order\n",
    "coef_df.reindex(coef_df['values'].abs().sort_values(ascending=False).index)[:10]"
   ]
  },
  {
   "cell_type": "code",
   "execution_count": 32,
   "metadata": {
    "scrolled": false
   },
   "outputs": [
    {
     "data": {
      "image/png": "[encoded data removed]",
      "text/plain": [
       "<Figure size 1296x576 with 1 Axes>"
      ]
     },
     "metadata": {
      "needs_background": "light"
     },
     "output_type": "display_data"
    }
   ],
   "source": [
    "# Visualize the top relevant words\n",
    "fig = plt.figure(figsize=(18,8))\n",
    "\n",
    "# Get the names and values of the top 10 words with highest influence on classification\n",
    "words=coef_df.reindex(coef_df['values'].abs().sort_values(ascending=False).index)[:10].index.values.tolist()\n",
    "counts=coef_df.reindex(coef_df['values'].abs().sort_values(ascending=False).index)[:10]['values'].tolist()\n",
    "\n",
    "# Display the result with bar charts\n",
    "bar_plot = sns.barplot(x=words, y=counts)\n",
    "plt.rcParams.update({'font.size':30})\n",
    "for item in bar_plot.get_xticklabels():\n",
    "    item.set_rotation(45)\n",
    "plt.title('Top 10 Most Relevant Features')\n",
    "plt.show()"
   ]
  },
  {
   "cell_type": "markdown",
   "metadata": {},
   "source": [
    "#### The above plot shows how important each feature is in classifying a post\n",
    "\n",
    "- The model has done a very good job in its feature selection function, giving us the top 10 keywards that are very relevant to Android and iPhone\n",
    "\n",
    "- It is not surprising that the words \"iPhone\" and \"Android\" came out at the very top. \n",
    "\n",
    "- At second position, \"Android\" considered is less relevant than \"iPhone\" because there are many Android hardware manufacturers and people usually refer to their phones by the hardware manufacturers, such as Samsung, which incidentally is at 3rd position. \n",
    "\n",
    "- Technically speaking Android is the operating system of the phone, and its equivalence for iPhone is known as \"ios\", which also came out top at 5th position. \n",
    "\n",
    "- Hardware manufacturers refer to their phones by product or model names, such as Galaxy by Samsung, which is at 4th position\n",
    "\n",
    "- At number 6 and 10 are Apple and Google, the companies behind iPhone and Android respectively\n",
    "\n",
    "- Apple's other products in the top 10 are ios, icloud (cloud storage and computing solution) and safari (browser). The latest major release for ios is 13, which is at 5th position, while iCloud is at 7th and safari at number 8"
   ]
  },
  {
   "cell_type": "code",
   "execution_count": null,
   "metadata": {},
   "outputs": [],
   "source": []
  }
 ],
 "metadata": {
  "kernelspec": {
   "display_name": "Python 3",
   "language": "python",
   "name": "python3"
  },
  "language_info": {
   "codemirror_mode": {
    "name": "ipython",
    "version": 3
   },
   "file_extension": ".py",
   "mimetype": "text/x-python",
   "name": "python",
   "nbconvert_exporter": "python",
   "pygments_lexer": "ipython3",
   "version": "3.7.6"
  }
 },
 "nbformat": 4,
 "nbformat_minor": 4
}
